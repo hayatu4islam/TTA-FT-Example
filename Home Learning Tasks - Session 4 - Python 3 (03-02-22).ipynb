{
 "cells": [
  {
   "cell_type": "markdown",
   "metadata": {},
   "source": [
    "### Task 1\n",
    "Write a program that allows you to enter 4 numbers and stores them in a file called \"Numbers\"\n",
    "* 3\n",
    "* 45\n",
    "* 83\n",
    "* 21"
   ]
  },
  {
   "cell_type": "code",
   "execution_count": 7,
   "metadata": {},
   "outputs": [
    {
     "name": "stdout",
     "output_type": "stream",
     "text": [
      "Enter number3\n",
      "Enter number45\n",
      "Enter number83\n",
      "Enter number21\n"
     ]
    }
   ],
   "source": [
    "my_text_file = open(\"t_file.txt\", \"w\")\n",
    "for i in range (4):\n",
    "    num = input(\"Enter number: \")\n",
    "    my_text_file.write(num)\n",
    "    my_text_file.write(\"\\n\")\n",
    "my_text_file.close()"
   ]
  },
  {
   "cell_type": "markdown",
   "metadata": {},
   "source": [
    "### Task 2\n",
    "Write a program to ask a student for their percentage mark and convert this to a grade.\n",
    "\n",
    "The conversion will be done in a function called mark_grade"
   ]
  },
  {
   "cell_type": "code",
   "execution_count": 18,
   "metadata": {},
   "outputs": [
    {
     "name": "stdout",
     "output_type": "stream",
     "text": [
      "Hi, please enter your percentage mark: 99\n",
      "Your grade is  A*\n"
     ]
    }
   ],
   "source": [
    "def mark_grade(p_mark):\n",
    "    if p_mark >= 90:\n",
    "        grade = \"A*\"\n",
    "    elif p_mark >= 80:\n",
    "        grade = \"A\"\n",
    "    elif p_mark >= 70:\n",
    "        grade = \"B\"\n",
    "    elif p_mark >= 60:\n",
    "        grade = \"C\"\n",
    "    elif p_mark >= 50:\n",
    "        grade = \"D\"\n",
    "    elif p_mark >= 40:\n",
    "        grade = \"E\"\n",
    "    else:\n",
    "        grade = \"F\"\n",
    "    \n",
    "    return grade\n",
    "\n",
    "p_mark = int(input(\"Hi, please enter your percentage mark: \"))\n",
    "grade = mark_grade(p_mark)\n",
    "print(\"Your grade is \", grade)"
   ]
  },
  {
   "cell_type": "markdown",
   "metadata": {},
   "source": [
    "### Extension to Task 2\n",
    "* Ask the user for their target grade and print this with their mark\n",
    "\n",
    "* If their target grade > exam grade display a suitable message\n",
    "\n",
    "* If their target grade = exam grade display a suitable message\n",
    "\n",
    "* If their target grade < exam grade display a suitable message"
   ]
  },
  {
   "cell_type": "code",
   "execution_count": 23,
   "metadata": {
    "scrolled": true
   },
   "outputs": [
    {
     "name": "stdout",
     "output_type": "stream",
     "text": [
      "Hi, please enter your examination percentage mark: 89\n",
      "Your grade is  A*\n",
      "Hi, kindly enter your target grade: A*\n",
      "Hello, your target grade is  A*  and your mark is  89\n",
      "Excellent! Your obtained exam grade is higher than the target grade.\n"
     ]
    }
   ],
   "source": [
    "def mark_grade(p_mark):\n",
    "    if p_mark >= 90:\n",
    "        grade = \"A*\"\n",
    "    elif p_mark >= 80:\n",
    "        grade = \"A\"\n",
    "    elif p_mark >= 70:\n",
    "        grade = \"B\"\n",
    "    elif p_mark >= 60:\n",
    "        grade = \"C\"\n",
    "    elif p_mark >= 50:\n",
    "        grade = \"D\"\n",
    "    elif p_mark >= 40:\n",
    "        grade = \"E\"\n",
    "    else:\n",
    "        grade = \"F\"\n",
    "    \n",
    "    return grade\n",
    "\n",
    "p_mark = int(input(\"Hi, please enter your examination percentage mark: \"))\n",
    "exam_grade = mark_grade(p_mark)\n",
    "print(\"Your grade is \", grade)\n",
    "\n",
    "t_grade = input(\"Hi, kindly enter your target grade: \")\n",
    "print(\"Hello, your target grade is \", t_grade, \" and your mark is \",p_mark)\n",
    "# The bigger the grade, the less the performance. For example,\n",
    "# \"B\" is bigger than \"A\" (in logical comparison) but \"A\" is better than \"B\" in performance\n",
    "if t_grade > exam_grade:\n",
    "    print(\"Excellent! Your obtained exam grade is higher than the target grade.\")\n",
    "elif t_grade == exam_grade:\n",
    "    print(\"You are lucky! Your obtained exam grade is the same with the target grade.\")\n",
    "else:\n",
    "    print(\"Oops! Your obtained exam grade is less than the target grade. You need to work harder next time.\")"
   ]
  },
  {
   "cell_type": "code",
   "execution_count": null,
   "metadata": {},
   "outputs": [],
   "source": []
  }
 ],
 "metadata": {
  "kernelspec": {
   "display_name": "Python 3",
   "language": "python",
   "name": "python3"
  },
  "language_info": {
   "codemirror_mode": {
    "name": "ipython",
    "version": 3
   },
   "file_extension": ".py",
   "mimetype": "text/x-python",
   "name": "python",
   "nbconvert_exporter": "python",
   "pygments_lexer": "ipython3",
   "version": "3.6.5"
  }
 },
 "nbformat": 4,
 "nbformat_minor": 2
}
