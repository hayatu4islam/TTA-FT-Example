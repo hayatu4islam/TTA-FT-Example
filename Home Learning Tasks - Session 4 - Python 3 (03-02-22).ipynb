{
 "cells": [
  {
   "cell_type": "markdown",
   "metadata": {},
   "source": [
    "### Task 1\n",
    "Write a program that allows you to enter 4 numbers and stores them in a file called \"Numbers\"\n",
    "* 3\n",
    "* 45\n",
    "* 83\n",
    "* 21"
   ]
  },
  {
   "cell_type": "code",
   "execution_count": 3,
   "metadata": {},
   "outputs": [
    {
     "name": "stdout",
     "output_type": "stream",
     "text": [
      "Enter number3\n",
      "Enter number45\n",
      "Enter number83\n",
      "Enter number21\n"
     ]
    }
   ],
   "source": [
    "my_text_file = open(\"t_file\", \"w\")\n",
    "for i in range (4):\n",
    "    num = input(\"Enter number\")\n",
    "    my_text_file.write(num)\n",
    "    my_text_file.write(\"\\n\")\n",
    "my_text_file.close()"
   ]
  },
  {
   "cell_type": "code",
   "execution_count": null,
   "metadata": {},
   "outputs": [],
   "source": []
  }
 ],
 "metadata": {
  "kernelspec": {
   "display_name": "Python 3",
   "language": "python",
   "name": "python3"
  },
  "language_info": {
   "codemirror_mode": {
    "name": "ipython",
    "version": 3
   },
   "file_extension": ".py",
   "mimetype": "text/x-python",
   "name": "python",
   "nbconvert_exporter": "python",
   "pygments_lexer": "ipython3",
   "version": "3.6.5"
  }
 },
 "nbformat": 4,
 "nbformat_minor": 2
}
