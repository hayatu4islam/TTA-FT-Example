{
 "cells": [
  {
   "cell_type": "markdown",
   "metadata": {},
   "source": [
    "### Home Learning Tasks and Random\n"
   ]
  },
  {
   "cell_type": "markdown",
   "metadata": {},
   "source": [
    "#### How many rows and columns are there in your file?"
   ]
  },
  {
   "cell_type": "code",
   "execution_count": 198,
   "metadata": {},
   "outputs": [],
   "source": [
    "import numpy as np\n",
    "import pandas as pd\n"
   ]
  },
  {
   "cell_type": "code",
   "execution_count": 199,
   "metadata": {},
   "outputs": [],
   "source": [
    "dest_data = pd.read_csv(\"Holiday_destinations.csv\")"
   ]
  },
  {
   "cell_type": "code",
   "execution_count": 200,
   "metadata": {},
   "outputs": [
    {
     "data": {
      "text/html": [
       "<div>\n",
       "<style scoped>\n",
       "    .dataframe tbody tr th:only-of-type {\n",
       "        vertical-align: middle;\n",
       "    }\n",
       "\n",
       "    .dataframe tbody tr th {\n",
       "        vertical-align: top;\n",
       "    }\n",
       "\n",
       "    .dataframe thead th {\n",
       "        text-align: right;\n",
       "    }\n",
       "</style>\n",
       "<table border=\"1\" class=\"dataframe\">\n",
       "  <thead>\n",
       "    <tr style=\"text-align: right;\">\n",
       "      <th></th>\n",
       "      <th>Destinations</th>\n",
       "      <th>Score</th>\n",
       "      <th>Hotel_Rating</th>\n",
       "      <th>Num_of_hotels</th>\n",
       "      <th>Most_visited_city</th>\n",
       "    </tr>\n",
       "  </thead>\n",
       "  <tbody>\n",
       "    <tr>\n",
       "      <th>0</th>\n",
       "      <td>Saudi Arabia</td>\n",
       "      <td>9</td>\n",
       "      <td>4.70</td>\n",
       "      <td>8</td>\n",
       "      <td>Makkah</td>\n",
       "    </tr>\n",
       "    <tr>\n",
       "      <th>1</th>\n",
       "      <td>Holland</td>\n",
       "      <td>7</td>\n",
       "      <td>4.60</td>\n",
       "      <td>5</td>\n",
       "      <td>Almere</td>\n",
       "    </tr>\n",
       "    <tr>\n",
       "      <th>2</th>\n",
       "      <td>Japan</td>\n",
       "      <td>8</td>\n",
       "      <td>4.80</td>\n",
       "      <td>6</td>\n",
       "      <td>Nagasaki</td>\n",
       "    </tr>\n",
       "    <tr>\n",
       "      <th>3</th>\n",
       "      <td>Lithuania</td>\n",
       "      <td>6</td>\n",
       "      <td>4.30</td>\n",
       "      <td>11</td>\n",
       "      <td>Kaunas</td>\n",
       "    </tr>\n",
       "    <tr>\n",
       "      <th>4</th>\n",
       "      <td>South Africa</td>\n",
       "      <td>7</td>\n",
       "      <td>4.50</td>\n",
       "      <td>6</td>\n",
       "      <td>Barbados</td>\n",
       "    </tr>\n",
       "    <tr>\n",
       "      <th>5</th>\n",
       "      <td>Egypt</td>\n",
       "      <td>6</td>\n",
       "      <td>4.30</td>\n",
       "      <td>6</td>\n",
       "      <td>Cairo</td>\n",
       "    </tr>\n",
       "    <tr>\n",
       "      <th>6</th>\n",
       "      <td>England</td>\n",
       "      <td>8</td>\n",
       "      <td>4.75</td>\n",
       "      <td>10</td>\n",
       "      <td>Birmingham</td>\n",
       "    </tr>\n",
       "    <tr>\n",
       "      <th>7</th>\n",
       "      <td>Portugal</td>\n",
       "      <td>8</td>\n",
       "      <td>4.67</td>\n",
       "      <td>4</td>\n",
       "      <td>Azores</td>\n",
       "    </tr>\n",
       "    <tr>\n",
       "      <th>8</th>\n",
       "      <td>Germany</td>\n",
       "      <td>8</td>\n",
       "      <td>4.86</td>\n",
       "      <td>13</td>\n",
       "      <td>Oberammergau</td>\n",
       "    </tr>\n",
       "    <tr>\n",
       "      <th>9</th>\n",
       "      <td>Qatar</td>\n",
       "      <td>7</td>\n",
       "      <td>4.65</td>\n",
       "      <td>2</td>\n",
       "      <td>Doha</td>\n",
       "    </tr>\n",
       "    <tr>\n",
       "      <th>10</th>\n",
       "      <td>Greece</td>\n",
       "      <td>8</td>\n",
       "      <td>4.40</td>\n",
       "      <td>37</td>\n",
       "      <td>Halki</td>\n",
       "    </tr>\n",
       "    <tr>\n",
       "      <th>11</th>\n",
       "      <td>United States</td>\n",
       "      <td>9</td>\n",
       "      <td>4.75</td>\n",
       "      <td>53</td>\n",
       "      <td>National Park</td>\n",
       "    </tr>\n",
       "    <tr>\n",
       "      <th>12</th>\n",
       "      <td>Quaan Pan</td>\n",
       "      <td>1</td>\n",
       "      <td>3.70</td>\n",
       "      <td>3</td>\n",
       "      <td>Kurgwi</td>\n",
       "    </tr>\n",
       "    <tr>\n",
       "      <th>13</th>\n",
       "      <td>Nigeria</td>\n",
       "      <td>8</td>\n",
       "      <td>4.30</td>\n",
       "      <td>10</td>\n",
       "      <td>Abuja</td>\n",
       "    </tr>\n",
       "    <tr>\n",
       "      <th>14</th>\n",
       "      <td>UAE</td>\n",
       "      <td>9</td>\n",
       "      <td>4.90</td>\n",
       "      <td>11</td>\n",
       "      <td>Dubai</td>\n",
       "    </tr>\n",
       "  </tbody>\n",
       "</table>\n",
       "</div>"
      ],
      "text/plain": [
       "     Destinations  Score  Hotel_Rating  Num_of_hotels Most_visited_city\n",
       "0    Saudi Arabia      9          4.70              8            Makkah\n",
       "1         Holland      7          4.60              5            Almere\n",
       "2           Japan      8          4.80              6          Nagasaki\n",
       "3       Lithuania      6          4.30             11            Kaunas\n",
       "4    South Africa      7          4.50              6          Barbados\n",
       "5           Egypt      6          4.30              6             Cairo\n",
       "6         England      8          4.75             10        Birmingham\n",
       "7        Portugal      8          4.67              4            Azores\n",
       "8         Germany      8          4.86             13      Oberammergau\n",
       "9           Qatar      7          4.65              2              Doha\n",
       "10         Greece      8          4.40             37             Halki\n",
       "11  United States      9          4.75             53     National Park\n",
       "12      Quaan Pan      1          3.70              3            Kurgwi\n",
       "13        Nigeria      8          4.30             10             Abuja\n",
       "14            UAE      9          4.90             11             Dubai"
      ]
     },
     "execution_count": 200,
     "metadata": {},
     "output_type": "execute_result"
    }
   ],
   "source": [
    "dest_data.head(15)"
   ]
  },
  {
   "cell_type": "code",
   "execution_count": 201,
   "metadata": {},
   "outputs": [
    {
     "name": "stdout",
     "output_type": "stream",
     "text": [
      "The number of rows and columns are:  (15, 5)\n"
     ]
    }
   ],
   "source": [
    "print(\"The number of rows and columns are: \", dest_data.shape)"
   ]
  },
  {
   "cell_type": "markdown",
   "metadata": {},
   "source": [
    "#### Print row 3 - 8 (using iloc/loc)"
   ]
  },
  {
   "cell_type": "code",
   "execution_count": 202,
   "metadata": {},
   "outputs": [
    {
     "name": "stdout",
     "output_type": "stream",
     "text": [
      "   Destinations  Score  Hotel_Rating  Num_of_hotels Most_visited_city\n",
      "3     Lithuania      6          4.30             11            Kaunas\n",
      "4  South Africa      7          4.50              6          Barbados\n",
      "5         Egypt      6          4.30              6             Cairo\n",
      "6       England      8          4.75             10        Birmingham\n",
      "7      Portugal      8          4.67              4            Azores\n",
      "8       Germany      8          4.86             13      Oberammergau\n"
     ]
    }
   ],
   "source": [
    "print(dest_data.iloc[3:9])"
   ]
  },
  {
   "cell_type": "markdown",
   "metadata": {},
   "source": [
    "#### Find the mean number of all-inclusive hotels across all destinations"
   ]
  },
  {
   "cell_type": "code",
   "execution_count": 203,
   "metadata": {},
   "outputs": [
    {
     "name": "stdout",
     "output_type": "stream",
     "text": [
      "The mean number of all-inclusive hotels across all destinations is \n",
      "\n",
      "12.333333333333334\n",
      "53\n"
     ]
    }
   ],
   "source": [
    "print(\"The mean number of all-inclusive hotels across all destinations is \\n\")\n",
    "print(dest_data[\"Num_of_hotels\"].mean())\n",
    "print(dest_data.Num_of_hotels.max())"
   ]
  },
  {
   "cell_type": "markdown",
   "metadata": {},
   "source": [
    "\n",
    "\n",
    "Find all the destinations where there are more than 9 all-inclusive hotels\n"
   ]
  },
  {
   "cell_type": "markdown",
   "metadata": {},
   "source": [
    "#### Find the lowest scoring destination"
   ]
  },
  {
   "cell_type": "code",
   "execution_count": 204,
   "metadata": {},
   "outputs": [
    {
     "name": "stdout",
     "output_type": "stream",
     "text": [
      "The lowest scoring destination is/are: \n",
      " 12    Quaan Pan\n",
      "Name: Destinations, dtype: object\n"
     ]
    }
   ],
   "source": [
    "p = dest_data[dest_data['Score']==dest_data['Score'].min()]\n",
    "#print(p)\n",
    "print('The lowest scoring destination is/are: \\n', p['Destinations'])"
   ]
  },
  {
   "cell_type": "markdown",
   "metadata": {},
   "source": [
    "### Find the highest scoring destination"
   ]
  },
  {
   "cell_type": "code",
   "execution_count": 205,
   "metadata": {},
   "outputs": [
    {
     "name": "stdout",
     "output_type": "stream",
     "text": [
      "The lowest scoring destination is/are: \n",
      " 0      Saudi Arabia\n",
      "11    United States\n",
      "14              UAE\n",
      "Name: Destinations, dtype: object\n"
     ]
    }
   ],
   "source": [
    "q = dest_data[dest_data['Score']==dest_data['Score'].max()]\n",
    "#print(q)\n",
    "print('The lowest scoring destination is/are: \\n', q['Destinations'])"
   ]
  },
  {
   "cell_type": "markdown",
   "metadata": {},
   "source": [
    "### Find all the destinations where there are more than 9 all-inclusive hotels"
   ]
  },
  {
   "cell_type": "code",
   "execution_count": 206,
   "metadata": {},
   "outputs": [
    {
     "name": "stdout",
     "output_type": "stream",
     "text": [
      "     Destinations  Num_of_hotels\n",
      "3       Lithuania             11\n",
      "6         England             10\n",
      "8         Germany             13\n",
      "10         Greece             37\n",
      "11  United States             53\n",
      "13        Nigeria             10\n",
      "14            UAE             11\n"
     ]
    }
   ],
   "source": [
    "dest = dest_data[dest_data['Num_of_hotels'] > 9][[\"Destinations\", \"Num_of_hotels\"]]\n",
    "print(dest)"
   ]
  },
  {
   "cell_type": "markdown",
   "metadata": {},
   "source": [
    "### Filter the data by score above 8\n"
   ]
  },
  {
   "cell_type": "code",
   "execution_count": 207,
   "metadata": {},
   "outputs": [
    {
     "name": "stdout",
     "output_type": "stream",
     "text": [
      "     Destinations  Score  Hotel_Rating  Num_of_hotels Most_visited_city\n",
      "0    Saudi Arabia      9          4.70              8            Makkah\n",
      "11  United States      9          4.75             53     National Park\n",
      "14            UAE      9          4.90             11             Dubai\n"
     ]
    }
   ],
   "source": [
    "filter = dest_data[\"Score\"] > 8\n",
    "filtered_data = dest_data[filter]\n",
    "print(filtered_data)"
   ]
  },
  {
   "cell_type": "markdown",
   "metadata": {},
   "source": [
    "### Filter the data score below 2 (I need to know if these destinations should be removed or there is a problem)\n",
    "\n",
    "## Extension"
   ]
  },
  {
   "cell_type": "code",
   "execution_count": 208,
   "metadata": {},
   "outputs": [
    {
     "name": "stdout",
     "output_type": "stream",
     "text": [
      "   Destinations  Score  Hotel_Rating  Num_of_hotels Most_visited_city\n",
      "12    Quaan Pan      1           3.7              3            Kurgwi\n"
     ]
    }
   ],
   "source": [
    "filter2 = dest_data['Score'] < 2\n",
    "print(dest_data[filter2])"
   ]
  },
  {
   "cell_type": "markdown",
   "metadata": {},
   "source": [
    "### 1. Is there a correlation between number of all-inclusive hotels and score?\n",
    "2. Create a data visualisation diagram to show destination and highest scores."
   ]
  },
  {
   "cell_type": "code",
   "execution_count": 215,
   "metadata": {},
   "outputs": [
    {
     "name": "stdout",
     "output_type": "stream",
     "text": [
      "The correlation between number of all-inclusive hotels and score is \n",
      " 0.36043627529485056\n",
      "The correlation is graphically shown in a scatter plot below\n"
     ]
    },
    {
     "data": {
      "image/png": "[encoded data removed]",
      "text/plain": [
       "<Figure size 432x288 with 1 Axes>"
      ]
     },
     "metadata": {},
     "output_type": "display_data"
    }
   ],
   "source": [
    "dest_data.plot.scatter(x='Num_of_hotels', y='Score')\n",
    "print('The correlation between number of all-inclusive hotels and score is \\n',dest_data['Num_of_hotels'].corr(dest_data['Score']))\n",
    "print('The correlation is graphically shown in a scatter plot below')"
   ]
  },
  {
   "cell_type": "code",
   "execution_count": 68,
   "metadata": {},
   "outputs": [
    {
     "data": {
      "text/html": [
       "<div>\n",
       "<style scoped>\n",
       "    .dataframe tbody tr th:only-of-type {\n",
       "        vertical-align: middle;\n",
       "    }\n",
       "\n",
       "    .dataframe tbody tr th {\n",
       "        vertical-align: top;\n",
       "    }\n",
       "\n",
       "    .dataframe thead th {\n",
       "        text-align: right;\n",
       "    }\n",
       "</style>\n",
       "<table border=\"1\" class=\"dataframe\">\n",
       "  <thead>\n",
       "    <tr style=\"text-align: right;\">\n",
       "      <th></th>\n",
       "      <th>Destinations</th>\n",
       "      <th>Score</th>\n",
       "      <th>Hotel_Rating</th>\n",
       "      <th>Num_of_hotels</th>\n",
       "      <th>Most_visited_city</th>\n",
       "    </tr>\n",
       "  </thead>\n",
       "  <tbody>\n",
       "    <tr>\n",
       "      <th>0</th>\n",
       "      <td>Saudi Arabia</td>\n",
       "      <td>9</td>\n",
       "      <td>4.70</td>\n",
       "      <td>8355</td>\n",
       "      <td>Makkah</td>\n",
       "    </tr>\n",
       "    <tr>\n",
       "      <th>1</th>\n",
       "      <td>Holland</td>\n",
       "      <td>7</td>\n",
       "      <td>4.60</td>\n",
       "      <td>5350</td>\n",
       "      <td>Almere</td>\n",
       "    </tr>\n",
       "    <tr>\n",
       "      <th>2</th>\n",
       "      <td>Japan</td>\n",
       "      <td>8</td>\n",
       "      <td>4.80</td>\n",
       "      <td>6745</td>\n",
       "      <td>Nagasaki</td>\n",
       "    </tr>\n",
       "    <tr>\n",
       "      <th>3</th>\n",
       "      <td>Lithuania</td>\n",
       "      <td>6</td>\n",
       "      <td>4.30</td>\n",
       "      <td>10973</td>\n",
       "      <td>Kaunas</td>\n",
       "    </tr>\n",
       "    <tr>\n",
       "      <th>4</th>\n",
       "      <td>South Africa</td>\n",
       "      <td>7</td>\n",
       "      <td>4.50</td>\n",
       "      <td>63428</td>\n",
       "      <td>Barbados</td>\n",
       "    </tr>\n",
       "    <tr>\n",
       "      <th>5</th>\n",
       "      <td>Egypt</td>\n",
       "      <td>6</td>\n",
       "      <td>4.30</td>\n",
       "      <td>5982</td>\n",
       "      <td>Cairo</td>\n",
       "    </tr>\n",
       "    <tr>\n",
       "      <th>6</th>\n",
       "      <td>England</td>\n",
       "      <td>8</td>\n",
       "      <td>4.75</td>\n",
       "      <td>9955</td>\n",
       "      <td>Birmingham</td>\n",
       "    </tr>\n",
       "    <tr>\n",
       "      <th>7</th>\n",
       "      <td>Portugal</td>\n",
       "      <td>8</td>\n",
       "      <td>4.67</td>\n",
       "      <td>4204</td>\n",
       "      <td>Azores</td>\n",
       "    </tr>\n",
       "    <tr>\n",
       "      <th>8</th>\n",
       "      <td>Germany</td>\n",
       "      <td>8</td>\n",
       "      <td>4.86</td>\n",
       "      <td>12829</td>\n",
       "      <td>Oberammergau</td>\n",
       "    </tr>\n",
       "    <tr>\n",
       "      <th>9</th>\n",
       "      <td>Qatar</td>\n",
       "      <td>7</td>\n",
       "      <td>4.65</td>\n",
       "      <td>109</td>\n",
       "      <td>Doha</td>\n",
       "    </tr>\n",
       "    <tr>\n",
       "      <th>10</th>\n",
       "      <td>Greece</td>\n",
       "      <td>8</td>\n",
       "      <td>4.40</td>\n",
       "      <td>37827</td>\n",
       "      <td>Halki</td>\n",
       "    </tr>\n",
       "    <tr>\n",
       "      <th>11</th>\n",
       "      <td>United States</td>\n",
       "      <td>9</td>\n",
       "      <td>4.75</td>\n",
       "      <td>52863</td>\n",
       "      <td>National Park</td>\n",
       "    </tr>\n",
       "    <tr>\n",
       "      <th>12</th>\n",
       "      <td>Scotland</td>\n",
       "      <td>8</td>\n",
       "      <td>4.80</td>\n",
       "      <td>1870</td>\n",
       "      <td>East Lothian</td>\n",
       "    </tr>\n",
       "    <tr>\n",
       "      <th>13</th>\n",
       "      <td>Nigeria</td>\n",
       "      <td>8</td>\n",
       "      <td>4.30</td>\n",
       "      <td>10234</td>\n",
       "      <td>Abuja</td>\n",
       "    </tr>\n",
       "    <tr>\n",
       "      <th>14</th>\n",
       "      <td>UAE</td>\n",
       "      <td>9</td>\n",
       "      <td>4.90</td>\n",
       "      <td>1150</td>\n",
       "      <td>Dubai</td>\n",
       "    </tr>\n",
       "  </tbody>\n",
       "</table>\n",
       "</div>"
      ],
      "text/plain": [
       "     Destinations  Score  Hotel_Rating  Num_of_hotels Most_visited_city\n",
       "0    Saudi Arabia      9          4.70           8355            Makkah\n",
       "1         Holland      7          4.60           5350            Almere\n",
       "2           Japan      8          4.80           6745          Nagasaki\n",
       "3       Lithuania      6          4.30          10973            Kaunas\n",
       "4    South Africa      7          4.50          63428          Barbados\n",
       "5           Egypt      6          4.30           5982             Cairo\n",
       "6         England      8          4.75           9955        Birmingham\n",
       "7        Portugal      8          4.67           4204            Azores\n",
       "8         Germany      8          4.86          12829      Oberammergau\n",
       "9           Qatar      7          4.65            109              Doha\n",
       "10         Greece      8          4.40          37827             Halki\n",
       "11  United States      9          4.75          52863     National Park\n",
       "12       Scotland      8          4.80           1870      East Lothian\n",
       "13        Nigeria      8          4.30          10234             Abuja\n",
       "14            UAE      9          4.90           1150             Dubai"
      ]
     },
     "execution_count": 68,
     "metadata": {},
     "output_type": "execute_result"
    }
   ],
   "source": [
    "dest_data.head(15)"
   ]
  },
  {
   "cell_type": "code",
   "execution_count": null,
   "metadata": {},
   "outputs": [],
   "source": []
  }
 ],
 "metadata": {
  "kernelspec": {
   "display_name": "Python 3",
   "language": "python",
   "name": "python3"
  },
  "language_info": {
   "codemirror_mode": {
    "name": "ipython",
    "version": 3
   },
   "file_extension": ".py",
   "mimetype": "text/x-python",
   "name": "python",
   "nbconvert_exporter": "python",
   "pygments_lexer": "ipython3",
   "version": "3.6.5"
  }
 },
 "nbformat": 4,
 "nbformat_minor": 2
}
