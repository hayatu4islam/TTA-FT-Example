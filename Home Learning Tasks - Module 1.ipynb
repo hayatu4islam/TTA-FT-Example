{
 "cells": [
  {
   "cell_type": "markdown",
   "metadata": {},
   "source": [
    "## Home Learning Tasks"
   ]
  },
  {
   "cell_type": "markdown",
   "metadata": {},
   "source": [
    "### Task 1\n",
    "Write a program that does the following:\n",
    "a) Stores a random number (1-10) in a variable. - See hint below.\n",
    "\n",
    "b) Asks a user for their name and stores this in a variable.\n",
    "\n",
    "c) Asks a user to guess the number between 1 and 10.\n",
    "\n",
    "d) Tells the user whether they have guessed correctly."
   ]
  },
  {
   "cell_type": "code",
   "execution_count": null,
   "metadata": {},
   "outputs": [],
   "source": [
    "import random\n",
    "\n",
    "rand_Number = random.randint(1,10)"
   ]
  },
  {
   "cell_type": "code",
   "execution_count": null,
   "metadata": {},
   "outputs": [],
   "source": [
    "name = input(\"Hi! Enter your name: \")"
   ]
  },
  {
   "cell_type": "code",
   "execution_count": null,
   "metadata": {},
   "outputs": [],
   "source": [
    "guess_number = int(input(\"Guess a number between 1 and 10: \"))\n",
    "if(rand_Number == guess_number):\n",
    "    print(\"You have guessed the number correctly\")\n",
    "else:\n",
    "    print(\"You have guessed the number wrongly\")"
   ]
  },
  {
   "cell_type": "markdown",
   "metadata": {},
   "source": [
    "### Task 2\n",
    "Write a program that asks a user for their favourite number between 1\n",
    "and 100 and then tells them a joke based on the number. You should\n",
    "use a minimum of 3 jokes."
   ]
  },
  {
   "cell_type": "code",
   "execution_count": null,
   "metadata": {
    "scrolled": true
   },
   "outputs": [],
   "source": [
    "joke1=\"I invented a new word! I call it 'plagiarism'.\"\n",
    "joke2=\"Did you hear about the mathematician who’s afraid of negative numbers? He’ll stop at nothing to avoid them.\"\n",
    "joke3=\"A man tells his doctor, Doc, help me. I’m addicted to Twitter! The doctor replies, Sorry, I don't follow you …\"\n",
    "joke4=\"What kind of exercise do lazy people do? Diddly-squats.\"\n",
    "joke5=\"What do you call a fish with no eyes? A fsh.\"\n",
    "number = int(input(\"Enter a number between 1 and 100: \"))\n",
    "if number > 80:\n",
    "    print(joke1)\n",
    "elif number > 60:\n",
    "    print(joke2)\n",
    "elif number > 40:\n",
    "    print(joke3)\n",
    "elif number > 20:\n",
    "    print(joke4)\n",
    "else:\n",
    "    print(joke5)"
   ]
  },
  {
   "cell_type": "markdown",
   "metadata": {},
   "source": [
    "### Task 3\n",
    "Write a program that allows user to enter their favourite starter, main course, dessert and drink.\n",
    "\n",
    "Concatenate these and output a message which says ––“Your favourite meal is ………with a glass of….”"
   ]
  },
  {
   "cell_type": "code",
   "execution_count": null,
   "metadata": {},
   "outputs": [],
   "source": [
    "dessert = input(\"Enter your favourite meal \")\n",
    "drink = input(\"Enter your favourite drink \")\n",
    "print(\"Your favourite meal is\", dessert, \"with a glass of\", drink)"
   ]
  },
  {
   "cell_type": "markdown",
   "metadata": {},
   "source": [
    "### Task 4\n",
    "A motorbike costs £2000 and loses 10% of its value every year. Using a loop, print the value of the bike every following year until it falls below £1000."
   ]
  },
  {
   "cell_type": "code",
   "execution_count": null,
   "metadata": {},
   "outputs": [],
   "source": [
    "cost = 2000\n",
    "cost = cost - (cost * 0.1)\n",
    "while cost >= 1000:\n",
    "    print(cost)\n",
    "    cost = cost - (cost * 0.1)\n",
    "    "
   ]
  },
  {
   "cell_type": "markdown",
   "metadata": {},
   "source": [
    "### Task 5\n",
    "Write a program which will ask for two numbers from a user. Then offer a menu to the user giving them a choice of operator:\n",
    "e.g. Enter “a” if you want to add “b” if you want to subtract Include +, --, /, *, ** square (to the power of). Once the user has selected which operator they wish to use, perform the calculation."
   ]
  },
  {
   "cell_type": "code",
   "execution_count": null,
   "metadata": {},
   "outputs": [],
   "source": [
    "print(\"You will be asked to enter two numbers\")\n",
    "num1 = int(input(\"Enter the first number: \"))\n",
    "num2 = int(input(\"Enter the second number: \"))\n",
    "op = input(\"Enter 'a' if you want to add or \\n 'b' if you want to subtract \\n 'c' if you want to divide \\n 'd' if you want to multiply \\n 'e' if you want to raise to the power\")\n",
    "if op == 'a':\n",
    "    result = num1 + num2\n",
    "elif op == 'b':\n",
    "    result = num1 - num2\n",
    "elif op == 'c':\n",
    "    result = num1 / num2\n",
    "elif op == 'd':\n",
    "    result = num1 * num2\n",
    "elif op == 'e':\n",
    "    result = num1 ** num2\n",
    "else:\n",
    "    result = \"Invalid operator entered!\"\n",
    "\n",
    "print(\"The result is\", result)\n"
   ]
  },
  {
   "cell_type": "code",
   "execution_count": null,
   "metadata": {},
   "outputs": [],
   "source": []
  }
 ],
 "metadata": {
  "kernelspec": {
   "display_name": "Python 3",
   "language": "python",
   "name": "python3"
  },
  "language_info": {
   "codemirror_mode": {
    "name": "ipython",
    "version": 3
   },
   "file_extension": ".py",
   "mimetype": "text/x-python",
   "name": "python",
   "nbconvert_exporter": "python",
   "pygments_lexer": "ipython3",
   "version": "3.6.5"
  }
 },
 "nbformat": 4,
 "nbformat_minor": 2
}
